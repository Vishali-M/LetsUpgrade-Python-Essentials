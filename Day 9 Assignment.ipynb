{
 "cells": [
  {
   "cell_type": "code",
   "execution_count": 2,
   "metadata": {},
   "outputs": [
    {
     "name": "stdout",
     "output_type": "stream",
     "text": [
      "Requirement already satisfied: pylint in c:\\programdata\\anaconda3\\lib\\site-packages (2.3.1)\n",
      "Requirement already satisfied: astroid<3,>=2.2.0 in c:\\programdata\\anaconda3\\lib\\site-packages (from pylint) (2.2.5)\n",
      "Requirement already satisfied: isort<5,>=4.2.5 in c:\\programdata\\anaconda3\\lib\\site-packages (from pylint) (4.3.16)\n",
      "Requirement already satisfied: mccabe<0.7,>=0.6 in c:\\programdata\\anaconda3\\lib\\site-packages (from pylint) (0.6.1)\n",
      "Requirement already satisfied: colorama in c:\\programdata\\anaconda3\\lib\\site-packages (from pylint) (0.4.1)\n",
      "Requirement already satisfied: wrapt in c:\\programdata\\anaconda3\\lib\\site-packages (from astroid<3,>=2.2.0->pylint) (1.11.1)\n",
      "Collecting typed-ast>=1.3.0; implementation_name == \"cpython\" (from astroid<3,>=2.2.0->pylint)\n"
     ]
    },
    {
     "name": "stderr",
     "output_type": "stream",
     "text": [
      "  Retrying (Retry(total=4, connect=None, read=None, redirect=None, status=None)) after connection broken by 'NewConnectionError('<pip._vendor.urllib3.connection.VerifiedHTTPSConnection object at 0x0000021B347E5048>: Failed to establish a new connection: [Errno 11001] getaddrinfo failed')': /simple/typed-ast/\n",
      "  Retrying (Retry(total=3, connect=None, read=None, redirect=None, status=None)) after connection broken by 'NewConnectionError('<pip._vendor.urllib3.connection.VerifiedHTTPSConnection object at 0x0000021B347E5DA0>: Failed to establish a new connection: [Errno 11001] getaddrinfo failed')': /simple/typed-ast/\n",
      "  Retrying (Retry(total=2, connect=None, read=None, redirect=None, status=None)) after connection broken by 'NewConnectionError('<pip._vendor.urllib3.connection.VerifiedHTTPSConnection object at 0x0000021B347E5438>: Failed to establish a new connection: [Errno 11001] getaddrinfo failed')': /simple/typed-ast/\n",
      "  Retrying (Retry(total=1, connect=None, read=None, redirect=None, status=None)) after connection broken by 'NewConnectionError('<pip._vendor.urllib3.connection.VerifiedHTTPSConnection object at 0x0000021B347E5CC0>: Failed to establish a new connection: [Errno 11001] getaddrinfo failed')': /simple/typed-ast/\n",
      "  Retrying (Retry(total=0, connect=None, read=None, redirect=None, status=None)) after connection broken by 'NewConnectionError('<pip._vendor.urllib3.connection.VerifiedHTTPSConnection object at 0x0000021B347E54A8>: Failed to establish a new connection: [Errno 11001] getaddrinfo failed')': /simple/typed-ast/\n",
      "  Could not find a version that satisfies the requirement typed-ast>=1.3.0; implementation_name == \"cpython\" (from astroid<3,>=2.2.0->pylint) (from versions: )\n",
      "No matching distribution found for typed-ast>=1.3.0; implementation_name == \"cpython\" (from astroid<3,>=2.2.0->pylint)\n"
     ]
    }
   ],
   "source": [
    "! pip install pylint"
   ]
  },
  {
   "cell_type": "code",
   "execution_count": 13,
   "metadata": {},
   "outputs": [
    {
     "name": "stdout",
     "output_type": "stream",
     "text": [
      "Overwriting checkprime.py\n"
     ]
    }
   ],
   "source": [
    "%%writefile checkprime.py\n",
    "'''Check prime number or not'''\n",
    "def primenum(num):\n",
    "    '''Giving the input to find it is odd or even'''\n",
    "    if num>1:\n",
    "        for i in range(2,num):\n",
    "            if(num%i)==0:\n",
    "                break\n",
    "            return print(\"Number is a prime number\")\n",
    "    return print(\"Number is not a prime number\")\n",
    "X = int(input(\"Enter the number:\"))\n",
    "primenum(X)"
   ]
  },
  {
   "cell_type": "code",
   "execution_count": 14,
   "metadata": {},
   "outputs": [
    {
     "name": "stdout",
     "output_type": "stream",
     "text": [
      "************* Module checkprime\n",
      "checkprime.py:4:10: C0326: Exactly one space required around comparison\n",
      "    if num>1:\n",
      "\n",
      "          ^ (bad-whitespace)\n",
      "checkprime.py:5:24: C0326: Exactly one space required after comma\n",
      "        for i in range(2,num):\n",
      "\n",
      "                        ^ (bad-whitespace)\n",
      "checkprime.py:6:21: C0326: Exactly one space required around comparison\n",
      "            if(num%i)==0:\n",
      "\n",
      "                     ^^ (bad-whitespace)\n",
      "\n",
      "------------------------------------------------------------------\n",
      "\n",
      "Your code has been rated at 6.67/10 (previous run: 5.56/10, +1.11)\n",
      "\n",
      "\n",
      "\n"
     ]
    }
   ],
   "source": [
    "!pylint \"checkprime.py\""
   ]
  },
  {
   "cell_type": "code",
   "execution_count": 15,
   "metadata": {},
   "outputs": [
    {
     "name": "stdout",
     "output_type": "stream",
     "text": [
      "Collecting unittest2\n"
     ]
    },
    {
     "name": "stderr",
     "output_type": "stream",
     "text": [
      "  Retrying (Retry(total=4, connect=None, read=None, redirect=None, status=None)) after connection broken by 'NewConnectionError('<pip._vendor.urllib3.connection.VerifiedHTTPSConnection object at 0x00000180D8C18828>: Failed to establish a new connection: [Errno 11001] getaddrinfo failed')': /simple/unittest2/\n",
      "  Retrying (Retry(total=3, connect=None, read=None, redirect=None, status=None)) after connection broken by 'NewConnectionError('<pip._vendor.urllib3.connection.VerifiedHTTPSConnection object at 0x00000180D8C18748>: Failed to establish a new connection: [Errno 11001] getaddrinfo failed')': /simple/unittest2/\n",
      "  Retrying (Retry(total=2, connect=None, read=None, redirect=None, status=None)) after connection broken by 'NewConnectionError('<pip._vendor.urllib3.connection.VerifiedHTTPSConnection object at 0x00000180D8C18D30>: Failed to establish a new connection: [Errno 11001] getaddrinfo failed')': /simple/unittest2/\n",
      "  Retrying (Retry(total=1, connect=None, read=None, redirect=None, status=None)) after connection broken by 'NewConnectionError('<pip._vendor.urllib3.connection.VerifiedHTTPSConnection object at 0x00000180D8C18198>: Failed to establish a new connection: [Errno 11001] getaddrinfo failed')': /simple/unittest2/\n",
      "  Retrying (Retry(total=0, connect=None, read=None, redirect=None, status=None)) after connection broken by 'NewConnectionError('<pip._vendor.urllib3.connection.VerifiedHTTPSConnection object at 0x00000180D8C18630>: Failed to establish a new connection: [Errno 11001] getaddrinfo failed')': /simple/unittest2/\n",
      "  Could not find a version that satisfies the requirement unittest2 (from versions: )\n",
      "No matching distribution found for unittest2\n"
     ]
    }
   ],
   "source": [
    "!pip install unittest2"
   ]
  },
  {
   "cell_type": "code",
   "execution_count": 22,
   "metadata": {},
   "outputs": [
    {
     "name": "stdout",
     "output_type": "stream",
     "text": [
      "Writing primeunit.py\n"
     ]
    }
   ],
   "source": [
    "%%writefile primeunit.py\n",
    "def findprime(primeornot):\n",
    "    return primeornot()"
   ]
  },
  {
   "cell_type": "code",
   "execution_count": null,
   "metadata": {},
   "outputs": [],
   "source": [
    "%%writefile testprime.py\n",
    "''' Finding prime number'''\n",
    "import unittest\n",
    "import primeunit\n",
    "class primenumber(unittest.TestCase):\n",
    "    def test1(self):\n",
    "        \n"
   ]
  },
  {
   "cell_type": "markdown",
   "metadata": {},
   "source": [
    "# Program 2:Finding Armstrong numbers using generators"
   ]
  },
  {
   "cell_type": "code",
   "execution_count": 19,
   "metadata": {},
   "outputs": [],
   "source": [
    "def armstrong(num):\n",
    "    for x in range(1,num):\n",
    "        if x>10:\n",
    "            order = len(str(x))\n",
    "            sum = 0\n",
    "            temp =x\n",
    "            while temp>0:\n",
    "                digit = temp%10\n",
    "                sum +=digit**order\n",
    "                temp//=10\n",
    "            if x==sum:\n",
    "                yield print(\"Armstrong number is\" ,x)"
   ]
  },
  {
   "cell_type": "code",
   "execution_count": 20,
   "metadata": {},
   "outputs": [
    {
     "name": "stdout",
     "output_type": "stream",
     "text": [
      "Armstrong number is 153\n",
      "Armstrong number is 370\n",
      "Armstrong number is 371\n",
      "Armstrong number is 407\n"
     ]
    }
   ],
   "source": [
    "l=list(armstrong(1000))"
   ]
  },
  {
   "cell_type": "code",
   "execution_count": null,
   "metadata": {},
   "outputs": [],
   "source": []
  }
 ],
 "metadata": {
  "kernelspec": {
   "display_name": "Python 3",
   "language": "python",
   "name": "python3"
  },
  "language_info": {
   "codemirror_mode": {
    "name": "ipython",
    "version": 3
   },
   "file_extension": ".py",
   "mimetype": "text/x-python",
   "name": "python",
   "nbconvert_exporter": "python",
   "pygments_lexer": "ipython3",
   "version": "3.7.3"
  }
 },
 "nbformat": 4,
 "nbformat_minor": 2
}
