{
 "cells": [
  {
   "cell_type": "markdown",
   "metadata": {},
   "source": [
    "# Program 1: Decorators"
   ]
  },
  {
   "cell_type": "code",
   "execution_count": 1,
   "metadata": {},
   "outputs": [],
   "source": [
    "def func1(num):\n",
    "    def func2():\n",
    "        print(\"Enter numbers\")\n",
    "        a=int(input(\"Enter your first number:\"))\n",
    "        b=int(input(\"Enter your second number:\"))\n",
    "        num(a,b)\n",
    "    return func2"
   ]
  },
  {
   "cell_type": "code",
   "execution_count": 9,
   "metadata": {},
   "outputs": [],
   "source": [
    "@func1\n",
    "def num(a,b):\n",
    "    print(*[i for i in range(a,b) if i%2!=0])"
   ]
  },
  {
   "cell_type": "code",
   "execution_count": 10,
   "metadata": {},
   "outputs": [
    {
     "name": "stdout",
     "output_type": "stream",
     "text": [
      "Enter numbers\n",
      "Enter your first number:1\n",
      "Enter your second number:17\n",
      "1 3 5 7 9 11 13 15\n"
     ]
    }
   ],
   "source": [
    "num()"
   ]
  },
  {
   "cell_type": "markdown",
   "metadata": {},
   "source": [
    "# Program 2: Exception Handling"
   ]
  },
  {
   "cell_type": "code",
   "execution_count": 14,
   "metadata": {},
   "outputs": [],
   "source": [
    "a=open(\"file.txt\",\"r\")"
   ]
  },
  {
   "cell_type": "code",
   "execution_count": 15,
   "metadata": {},
   "outputs": [],
   "source": [
    "z=a.read()"
   ]
  },
  {
   "cell_type": "code",
   "execution_count": 16,
   "metadata": {},
   "outputs": [
    {
     "data": {
      "text/plain": [
       "'Welcome....Greetings.....Happy learning letsupgraders....!!!'"
      ]
     },
     "execution_count": 16,
     "metadata": {},
     "output_type": "execute_result"
    }
   ],
   "source": [
    "z"
   ]
  },
  {
   "cell_type": "code",
   "execution_count": 27,
   "metadata": {},
   "outputs": [
    {
     "name": "stdout",
     "output_type": "stream",
     "text": [
      "Warning:Do not update in read mode\n"
     ]
    }
   ],
   "source": [
    "try:\n",
    "    a=open(\"file.txt\",\"r\")\n",
    "    a.write(\"Thanks\")\n",
    "except:\n",
    "    print(\"Warning:Do not update in read mode\")\n",
    "finally:\n",
    "    a.close()"
   ]
  },
  {
   "cell_type": "code",
   "execution_count": 28,
   "metadata": {},
   "outputs": [
    {
     "name": "stdout",
     "output_type": "stream",
     "text": [
      "Welcome....Greetings.....Happy learning letsupgraders....!!!ThanksThnaksThanksThanksThanks\n"
     ]
    }
   ],
   "source": [
    "try:\n",
    "    a=open(\"file.txt\",\"a+\")\n",
    "    a.write(\"Thanks\")\n",
    "except:\n",
    "    print(\"Warning:Do not update in read mode\")\n",
    "finally:\n",
    "    a.close()\n",
    "y=open(\"file.txt\",\"r\")\n",
    "print(y.read())"
   ]
  },
  {
   "cell_type": "code",
   "execution_count": null,
   "metadata": {},
   "outputs": [],
   "source": []
  }
 ],
 "metadata": {
  "kernelspec": {
   "display_name": "Python 3",
   "language": "python",
   "name": "python3"
  },
  "language_info": {
   "codemirror_mode": {
    "name": "ipython",
    "version": 3
   },
   "file_extension": ".py",
   "mimetype": "text/x-python",
   "name": "python",
   "nbconvert_exporter": "python",
   "pygments_lexer": "ipython3",
   "version": "3.7.3"
  }
 },
 "nbformat": 4,
 "nbformat_minor": 2
}
