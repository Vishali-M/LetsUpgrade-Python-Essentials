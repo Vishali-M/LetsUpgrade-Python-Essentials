{
 "cells": [
  {
   "cell_type": "code",
   "execution_count": null,
   "metadata": {},
   "outputs": [
    {
     "name": "stdout",
     "output_type": "stream",
     "text": [
      "Enter lower range:1042000\n",
      "Enter upper range:702648265\n"
     ]
    }
   ],
   "source": [
    "lower = int(input(\"Enter lower range:\"))\n",
    "upper = int(input(\"Enter upper range:\"))\n",
    "for num in range(lower,upper+1):\n",
    "    sum = 0\n",
    "    temp = num\n",
    "    while temp>0:\n",
    "        digit = temp % 10\n",
    "        sum += digit**3\n",
    "        temp //= 10\n",
    "        if num == sum:\n",
    "            print(\"First Armstrong number:\" ,num)\n",
    "            quit;"
   ]
  },
  {
   "cell_type": "code",
   "execution_count": null,
   "metadata": {},
   "outputs": [],
   "source": []
  },
  {
   "cell_type": "code",
   "execution_count": null,
   "metadata": {},
   "outputs": [],
   "source": []
  }
 ],
 "metadata": {
  "kernelspec": {
   "display_name": "Python 3",
   "language": "python",
   "name": "python3"
  }
 },
 "nbformat": 4,
 "nbformat_minor": 2
}
