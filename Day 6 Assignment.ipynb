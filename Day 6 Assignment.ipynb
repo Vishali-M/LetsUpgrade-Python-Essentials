{
 "cells": [
  {
   "cell_type": "markdown",
   "metadata": {},
   "source": [
    "# Program 1: Finding the balance, withdraw and deposited Amount "
   ]
  },
  {
   "cell_type": "code",
   "execution_count": 3,
   "metadata": {},
   "outputs": [],
   "source": [
    "class BankAccount:\n",
    "    def __init__(self,Ownername):\n",
    "        self.Balance = 0\n",
    "        self.Ownername = Ownername\n",
    "        print(\"Hi\", str(self.Ownername), \"Welcome to deposit and withdrawal machine\")\n",
    "    def deposit(self):\n",
    "        amount = float(input(\"Enter the amount to be deposited:\"))\n",
    "        self.Balance += amount\n",
    "    def withdraw(self):\n",
    "        amount = float(input(\"Enter the amount to withdraw:\"))\n",
    "        if self.Balance>= amount:\n",
    "            self.Balance -= amount\n",
    "            print(\"withdraw sucessful:\",amount)\n",
    "        else:\n",
    "            print(\" Insufficient balance\")\n",
    "    def display(self):\n",
    "        print(\"Available Balance\" ,self.Balance)"
   ]
  },
  {
   "cell_type": "code",
   "execution_count": 4,
   "metadata": {},
   "outputs": [
    {
     "name": "stdout",
     "output_type": "stream",
     "text": [
      "Hi xyz Welcome to deposit and withdrawal machine\n"
     ]
    }
   ],
   "source": [
    "n = BankAccount(\"xyz\")\n"
   ]
  },
  {
   "cell_type": "code",
   "execution_count": 5,
   "metadata": {},
   "outputs": [
    {
     "name": "stdout",
     "output_type": "stream",
     "text": [
      "Enter the amount to be deposited:10000\n"
     ]
    }
   ],
   "source": [
    "n.deposit()"
   ]
  },
  {
   "cell_type": "code",
   "execution_count": 6,
   "metadata": {},
   "outputs": [
    {
     "name": "stdout",
     "output_type": "stream",
     "text": [
      "Enter the amount to withdraw:5000\n",
      "withdraw sucessful: 5000.0\n"
     ]
    }
   ],
   "source": [
    "n.withdraw()"
   ]
  },
  {
   "cell_type": "code",
   "execution_count": 7,
   "metadata": {},
   "outputs": [
    {
     "name": "stdout",
     "output_type": "stream",
     "text": [
      "Available Balance 5000.0\n"
     ]
    }
   ],
   "source": [
    "n.display()"
   ]
  },
  {
   "cell_type": "markdown",
   "metadata": {},
   "source": [
    "# Program 2: Finding volume and surface area of cone"
   ]
  },
  {
   "cell_type": "code",
   "execution_count": 8,
   "metadata": {},
   "outputs": [],
   "source": [
    "import math"
   ]
  },
  {
   "cell_type": "code",
   "execution_count": 12,
   "metadata": {},
   "outputs": [],
   "source": [
    "class Cone():\n",
    "    def __init__(self,radius,height):\n",
    "        self.radius = radius\n",
    "        self.height = height\n",
    "    def volume(self):\n",
    "        volume = ((math.pi)*self.radius)*(self.height/3)\n",
    "        print(\"Volume of cone :\",volume)\n",
    "\n",
    "    def Area(self):\n",
    "        base=((math.pi)*(self.radius*self.radius))\n",
    "        side=(((math.pi)*(self.radius))*(math.sqrt((self.height*self.height)+(self.radius*self.radius))))\n",
    "        area=base+side\n",
    "        print(\"Surface Area of cone: \",area)"
   ]
  },
  {
   "cell_type": "code",
   "execution_count": 13,
   "metadata": {},
   "outputs": [],
   "source": [
    "n = Cone(5,3)"
   ]
  },
  {
   "cell_type": "code",
   "execution_count": 14,
   "metadata": {},
   "outputs": [
    {
     "name": "stdout",
     "output_type": "stream",
     "text": [
      "Volume of cone : 15.707963267948966\n"
     ]
    }
   ],
   "source": [
    "n.volume()"
   ]
  },
  {
   "cell_type": "code",
   "execution_count": 15,
   "metadata": {},
   "outputs": [
    {
     "name": "stdout",
     "output_type": "stream",
     "text": [
      "Surface Area of cone:  170.13219452115223\n"
     ]
    }
   ],
   "source": [
    "n.Area()"
   ]
  },
  {
   "cell_type": "code",
   "execution_count": null,
   "metadata": {},
   "outputs": [],
   "source": []
  }
 ],
 "metadata": {
  "kernelspec": {
   "display_name": "Python 3",
   "language": "python",
   "name": "python3"
  },
  "language_info": {
   "codemirror_mode": {
    "name": "ipython",
    "version": 3
   },
   "file_extension": ".py",
   "mimetype": "text/x-python",
   "name": "python",
   "nbconvert_exporter": "python",
   "pygments_lexer": "ipython3",
   "version": "3.7.3"
  }
 },
 "nbformat": 4,
 "nbformat_minor": 2
}
